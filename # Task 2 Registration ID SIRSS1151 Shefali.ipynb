{
 "cells": [
  {
   "cell_type": "markdown",
   "id": "2e8dbad9",
   "metadata": {},
   "source": [
    "Question 1"
   ]
  },
  {
   "cell_type": "code",
   "execution_count": 31,
   "id": "821fc43a",
   "metadata": {},
   "outputs": [],
   "source": [
    "a=lambda x:x.split()[0][0]"
   ]
  },
  {
   "cell_type": "code",
   "execution_count": 32,
   "id": "c7b2074e",
   "metadata": {},
   "outputs": [
    {
     "data": {
      "text/plain": [
       "'h'"
      ]
     },
     "execution_count": 32,
     "metadata": {},
     "output_type": "execute_result"
    }
   ],
   "source": [
    "a('hello nice to meet you')"
   ]
  },
  {
   "cell_type": "markdown",
   "id": "8f03569c",
   "metadata": {},
   "source": [
    "Question 2"
   ]
  },
  {
   "cell_type": "code",
   "execution_count": 33,
   "id": "435a7c66",
   "metadata": {},
   "outputs": [],
   "source": [
    "a=lambda x:x.split()[0]"
   ]
  },
  {
   "cell_type": "code",
   "execution_count": 34,
   "id": "5be52c55",
   "metadata": {},
   "outputs": [
    {
     "data": {
      "text/plain": [
       "'hello'"
      ]
     },
     "execution_count": 34,
     "metadata": {},
     "output_type": "execute_result"
    }
   ],
   "source": [
    "a('hello nice to meet you')"
   ]
  },
  {
   "cell_type": "markdown",
   "id": "3f1d5391",
   "metadata": {},
   "source": [
    "Question 3"
   ]
  },
  {
   "cell_type": "code",
   "execution_count": 35,
   "id": "2b90ee05",
   "metadata": {},
   "outputs": [
    {
     "data": {
      "text/plain": [
       "['She', 'Please', 'Life']"
      ]
     },
     "execution_count": 35,
     "metadata": {},
     "output_type": "execute_result"
    }
   ],
   "source": [
    "l=['She is a nice person','Please give me the book','Life is good']\n",
    "list(map(a,l))"
   ]
  },
  {
   "cell_type": "markdown",
   "id": "95bbdcd1",
   "metadata": {},
   "source": [
    "Question 4"
   ]
  },
  {
   "cell_type": "code",
   "execution_count": 36,
   "id": "a6b2855f",
   "metadata": {},
   "outputs": [
    {
     "data": {
      "text/plain": [
       "[2, 3, 3, 5]"
      ]
     },
     "execution_count": 36,
     "metadata": {},
     "output_type": "execute_result"
    }
   ],
   "source": [
    "def prime(n):\n",
    "    if n==0 or n==1:\n",
    "        return False\n",
    "    \n",
    "    else:\n",
    "        for i in range(2,n//2):\n",
    "            if(n%i==0):\n",
    "                return False\n",
    "        return True\n",
    "def primefactor(n):\n",
    "    if prime(n):\n",
    "        return 'it is a prime number'\n",
    "    pf=[]\n",
    "    i=2\n",
    "    while(n>2):\n",
    "        if(n%i==0 and prime(i)):\n",
    "            pf.append(i)\n",
    "            n=n//i\n",
    "        else:\n",
    "            i+=1\n",
    "    return pf\n",
    "\n",
    "primefactor(90)\n",
    "\n",
    "               "
   ]
  },
  {
   "cell_type": "markdown",
   "id": "f23eb593",
   "metadata": {},
   "source": [
    "Question 5"
   ]
  },
  {
   "cell_type": "code",
   "execution_count": 37,
   "id": "e83326f8",
   "metadata": {},
   "outputs": [
    {
     "data": {
      "text/plain": [
       "5"
      ]
     },
     "execution_count": 37,
     "metadata": {},
     "output_type": "execute_result"
    }
   ],
   "source": [
    "def secondlargest(l):\n",
    "    maxx=l[0]\n",
    "    max2=l[1]\n",
    "    if(maxx<max2):\n",
    "        maxx=l[1]\n",
    "        max2=l[0]\n",
    "    \n",
    "    for i in range(2,len(l)):\n",
    "        if(l[i]>max2):\n",
    "            if(l[i]>maxx):\n",
    "                max2=maxx\n",
    "                maxx=l[i]\n",
    "                \n",
    "            else:\n",
    "                max2=l[i]\n",
    "    \n",
    "    return max2\n",
    "lst=[1,5,3,10]\n",
    "secondlargest(lst)\n",
    "        "
   ]
  }
 ],
 "metadata": {
  "kernelspec": {
   "display_name": "Python 3",
   "language": "python",
   "name": "python3"
  },
  "language_info": {
   "codemirror_mode": {
    "name": "ipython",
    "version": 3
   },
   "file_extension": ".py",
   "mimetype": "text/x-python",
   "name": "python",
   "nbconvert_exporter": "python",
   "pygments_lexer": "ipython3",
   "version": "3.8.8"
  }
 },
 "nbformat": 4,
 "nbformat_minor": 5
}
